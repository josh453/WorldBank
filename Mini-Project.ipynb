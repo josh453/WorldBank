{
 "cells": [
  {
   "cell_type": "markdown",
   "metadata": {},
   "source": [
    "## Using World Development Indicators"
   ]
  },
  {
   "cell_type": "code",
   "execution_count": 52,
   "metadata": {
    "collapsed": false
   },
   "outputs": [],
   "source": [
    "import pandas as pd\n",
    "import numpy as np\n",
    "import matplotlib.pyplot as plt\n",
    "import plotly.plotly as py\n",
    "import plotly.graph_objs as go\n",
    "from plotly import tools\n",
    "plotly.tools.set_credentials_file(username='josh453', api_key='QjODBQY60aw1eMUrqWbq')"
   ]
  },
  {
   "cell_type": "code",
   "execution_count": 3,
   "metadata": {
    "collapsed": false
   },
   "outputs": [
    {
     "data": {
      "text/html": [
       "<div>\n",
       "<table border=\"1\" class=\"dataframe\">\n",
       "  <thead>\n",
       "    <tr style=\"text-align: right;\">\n",
       "      <th></th>\n",
       "      <th>CountryName</th>\n",
       "      <th>CountryCode</th>\n",
       "      <th>IndicatorName</th>\n",
       "      <th>IndicatorCode</th>\n",
       "      <th>Year</th>\n",
       "      <th>Value</th>\n",
       "    </tr>\n",
       "  </thead>\n",
       "  <tbody>\n",
       "    <tr>\n",
       "      <th>0</th>\n",
       "      <td>Arab World</td>\n",
       "      <td>ARB</td>\n",
       "      <td>Adolescent fertility rate (births per 1,000 wo...</td>\n",
       "      <td>SP.ADO.TFRT</td>\n",
       "      <td>1960</td>\n",
       "      <td>1.335609e+02</td>\n",
       "    </tr>\n",
       "    <tr>\n",
       "      <th>1</th>\n",
       "      <td>Arab World</td>\n",
       "      <td>ARB</td>\n",
       "      <td>Age dependency ratio (% of working-age populat...</td>\n",
       "      <td>SP.POP.DPND</td>\n",
       "      <td>1960</td>\n",
       "      <td>8.779760e+01</td>\n",
       "    </tr>\n",
       "    <tr>\n",
       "      <th>2</th>\n",
       "      <td>Arab World</td>\n",
       "      <td>ARB</td>\n",
       "      <td>Age dependency ratio, old (% of working-age po...</td>\n",
       "      <td>SP.POP.DPND.OL</td>\n",
       "      <td>1960</td>\n",
       "      <td>6.634579e+00</td>\n",
       "    </tr>\n",
       "    <tr>\n",
       "      <th>3</th>\n",
       "      <td>Arab World</td>\n",
       "      <td>ARB</td>\n",
       "      <td>Age dependency ratio, young (% of working-age ...</td>\n",
       "      <td>SP.POP.DPND.YG</td>\n",
       "      <td>1960</td>\n",
       "      <td>8.102333e+01</td>\n",
       "    </tr>\n",
       "    <tr>\n",
       "      <th>4</th>\n",
       "      <td>Arab World</td>\n",
       "      <td>ARB</td>\n",
       "      <td>Arms exports (SIPRI trend indicator values)</td>\n",
       "      <td>MS.MIL.XPRT.KD</td>\n",
       "      <td>1960</td>\n",
       "      <td>3.000000e+06</td>\n",
       "    </tr>\n",
       "  </tbody>\n",
       "</table>\n",
       "</div>"
      ],
      "text/plain": [
       "  CountryName CountryCode                                      IndicatorName  \\\n",
       "0  Arab World         ARB  Adolescent fertility rate (births per 1,000 wo...   \n",
       "1  Arab World         ARB  Age dependency ratio (% of working-age populat...   \n",
       "2  Arab World         ARB  Age dependency ratio, old (% of working-age po...   \n",
       "3  Arab World         ARB  Age dependency ratio, young (% of working-age ...   \n",
       "4  Arab World         ARB        Arms exports (SIPRI trend indicator values)   \n",
       "\n",
       "    IndicatorCode  Year         Value  \n",
       "0     SP.ADO.TFRT  1960  1.335609e+02  \n",
       "1     SP.POP.DPND  1960  8.779760e+01  \n",
       "2  SP.POP.DPND.OL  1960  6.634579e+00  \n",
       "3  SP.POP.DPND.YG  1960  8.102333e+01  \n",
       "4  MS.MIL.XPRT.KD  1960  3.000000e+06  "
      ]
     },
     "execution_count": 3,
     "metadata": {},
     "output_type": "execute_result"
    }
   ],
   "source": [
    "#Let's take a look at the data\n",
    "data = pd.read_csv('C:/Users/Josh/Desktop/Python for Data Science/Week 5 Visualization/Indicators.csv')\n",
    "data.head()"
   ]
  },
  {
   "cell_type": "code",
   "execution_count": 4,
   "metadata": {
    "collapsed": false
   },
   "outputs": [
    {
     "name": "stdout",
     "output_type": "stream",
     "text": [
      "The data has 5656458 rows and 6 columns.\n",
      "There are 247 countries.\n",
      "There are 1344 indicators.\n",
      "There are 56 years.\n"
     ]
    }
   ],
   "source": [
    "#How many distinct countries, indicators, and years\n",
    "print(\"The data has\", data.shape[0], \"rows and\", data.shape[1], \"columns.\")\n",
    "print(\"There are\", len(set(data['CountryCode'])), \"countries.\")\n",
    "print(\"There are\", len(set(data['IndicatorCode'])), \"indicators.\")\n",
    "print(\"There are\", len(set(data['Year'])), \"years.\")"
   ]
  },
  {
   "cell_type": "code",
   "execution_count": 5,
   "metadata": {
    "collapsed": false
   },
   "outputs": [],
   "source": [
    "#Isolate indicator codes for life expectancy and GDP\n",
    "gdp_cap = data['IndicatorCode'].str.contains('NY\\.GDP\\.PCAP\\.KD$')\n",
    "total_exp = data['IndicatorCode'].str.contains('SP\\.DYN\\.LE00\\.IN$')"
   ]
  },
  {
   "cell_type": "code",
   "execution_count": 6,
   "metadata": {
    "collapsed": false
   },
   "outputs": [
    {
     "name": "stdout",
     "output_type": "stream",
     "text": [
      "CountryName      False\n",
      "CountryCode      False\n",
      "IndicatorName    False\n",
      "IndicatorCode    False\n",
      "Year             False\n",
      "Value            False\n",
      "dtype: bool\n",
      "CountryName      False\n",
      "CountryCode      False\n",
      "IndicatorName    False\n",
      "IndicatorCode    False\n",
      "Year             False\n",
      "Value            False\n",
      "dtype: bool\n"
     ]
    }
   ],
   "source": [
    "#Create masks for GDP and Life Exp.\n",
    "gdp_stage = data[gdp_cap]\n",
    "life_stage = data[total_exp]\n",
    "\n",
    "#Check if there are any nulls\n",
    "print(gdp_stage.isnull().any())\n",
    "print(life_stage.isnull().any())"
   ]
  },
  {
   "cell_type": "code",
   "execution_count": 94,
   "metadata": {
    "collapsed": false
   },
   "outputs": [
    {
     "name": "stdout",
     "output_type": "stream",
     "text": [
      "This is the format of your plot grid:\n",
      "[ (1,1) x1,y1 ]  [ (1,2) x2,y2 ]\n",
      "\n"
     ]
    },
    {
     "data": {
      "text/html": [
       "<iframe id=\"igraph\" scrolling=\"no\" style=\"border:none;\" seamless=\"seamless\" src=\"https://plot.ly/~josh453/56.embed\" height=\"525px\" width=\"100%\"></iframe>"
      ],
      "text/plain": [
       "<plotly.tools.PlotlyDisplay object>"
      ]
     },
     "execution_count": 94,
     "metadata": {},
     "output_type": "execute_result"
    }
   ],
   "source": [
    "#Make box plots\n",
    "life_expectancy = go.Box(y=life_stage['Value'])\n",
    "GDPPC = go.Box(y=gdp_stage['Value'])\n",
    "\n",
    "fig = tools.make_subplots(rows=1, cols=2, subplot_titles=(str(life_stage['IndicatorName'].iloc[0]), \n",
    "                                                          str(gdp_stage_trunc['IndicatorName'].iloc[0])))\n",
    "fig.append_trace(life_expectancy, 1, 1)\n",
    "fig.append_trace(GDPPC, 1, 2)\n",
    "\n",
    "fig['layout']['yaxis1'].update(title='Age in Years')\n",
    "fig['layout']['yaxis2'].update(title='2005 Dollars')\n",
    "\n",
    "py.iplot(fig)"
   ]
  },
  {
   "cell_type": "code",
   "execution_count": 7,
   "metadata": {
    "collapsed": false
   },
   "outputs": [
    {
     "name": "stdout",
     "output_type": "stream",
     "text": [
      "GDP Min Year = 1960 max: 2014\n",
      "Life Exp Min Year = 1960 max: 2013\n"
     ]
    }
   ],
   "source": [
    "#Check how many years each data set contains\n",
    "print(\"GDP Min Year =\", gdp_stage['Year'].min(), \"max:\", gdp_stage['Year'].max())\n",
    "print(\"Life Exp Min Year =\", life_stage['Year'].min(), \"max:\", life_stage['Year'].max())"
   ]
  },
  {
   "cell_type": "code",
   "execution_count": 8,
   "metadata": {
    "collapsed": false
   },
   "outputs": [
    {
     "name": "stdout",
     "output_type": "stream",
     "text": [
      "GDP Min Year =  2000 max:  2013\n",
      "Life Exp Min Year =  2000 max:  2013\n"
     ]
    }
   ],
   "source": [
    "#Filter GDP data to between 2000 and 2013\n",
    "gdp_stage_trunc = gdp_stage[(gdp_stage['Year'] < 2014) & (gdp_stage['Year'] > 1999)]\n",
    "print(\"GDP Min Year = \", gdp_stage_trunc['Year'].min(), \"max: \", gdp_stage_trunc['Year'].max())\n",
    "\n",
    "#Filter life expectancy data to between 2000 and 2013\n",
    "life_stage = life_stage[(life_stage['Year'] < 2014) & (life_stage['Year'] > 1999)]\n",
    "print(\"Life Exp Min Year = \", life_stage['Year'].min(), \"max: \", life_stage['Year'].max())"
   ]
  },
  {
   "cell_type": "code",
   "execution_count": 9,
   "metadata": {
    "collapsed": false
   },
   "outputs": [
    {
     "name": "stdout",
     "output_type": "stream",
     "text": [
      "GDP Countries: 232\n",
      "Life Exp. Countries: 240\n",
      "['Andorra' 'Curacao' 'French Polynesia' 'Guam' 'Korea, Dem. Rep.' 'Monaco'\n",
      " 'Myanmar' 'New Caledonia' 'Sint Maarten (Dutch part)' 'Somalia'\n",
      " 'South Sudan' 'St. Martin (French part)' 'Tuvalu' 'Virgin Islands (U.S.)']\n"
     ]
    }
   ],
   "source": [
    "#Check the number of countries in each set\n",
    "print('GDP Countries: ' + str(len(set(gdp_stage_trunc['CountryName']))))\n",
    "print('Life Exp. Countries: ' + str(len(set(life_stage['CountryName']))))\n",
    "\n",
    "#Check all country differences between the two\n",
    "print(np.setxor1d(gdp_stage_trunc['CountryName'],life_stage['CountryName']))"
   ]
  },
  {
   "cell_type": "code",
   "execution_count": 10,
   "metadata": {
    "collapsed": false
   },
   "outputs": [
    {
     "name": "stdout",
     "output_type": "stream",
     "text": [
      "We have GDP information but not life expectancy for: ['Andorra' 'Monaco' 'Tuvalu']\n",
      "We have life expectancy information but not GDP for: ['Curacao' 'French Polynesia' 'Guam' 'Korea, Dem. Rep.' 'Myanmar'\n",
      " 'New Caledonia' 'Sint Maarten (Dutch part)' 'Somalia' 'South Sudan'\n",
      " 'St. Martin (French part)' 'Virgin Islands (U.S.)']\n"
     ]
    }
   ],
   "source": [
    "#Distinct countries in the datasets are not the same\n",
    "#Which dataset has unique countries that the other does not contain\n",
    "print(\"We have GDP information but not life expectancy for:\", np.setdiff1d(gdp_stage_trunc['CountryName'],life_stage['CountryName']))\n",
    "print(\"We have life expectancy information but not GDP for:\", np.setdiff1d(life_stage['CountryName'],gdp_stage_trunc['CountryName']))"
   ]
  },
  {
   "cell_type": "code",
   "execution_count": 11,
   "metadata": {
    "collapsed": false
   },
   "outputs": [
    {
     "name": "stdout",
     "output_type": "stream",
     "text": [
      "[]\n"
     ]
    }
   ],
   "source": [
    "#Remove countries that do not intersect\n",
    "life_stage_trunc = life_stage[~life_stage.CountryName.isin(np.setdiff1d(life_stage['CountryName'],gdp_stage_trunc['CountryName']))]\n",
    "gdp_stage_trunc = gdp_stage_trunc[~gdp_stage_trunc.CountryName.isin(np.setdiff1d(gdp_stage_trunc['CountryName'],life_stage['CountryName']))]\n",
    "print(np.setxor1d(gdp_stage_trunc['CountryName'],life_stage_trunc['CountryName']))"
   ]
  },
  {
   "cell_type": "code",
   "execution_count": 12,
   "metadata": {
    "collapsed": false
   },
   "outputs": [
    {
     "data": {
      "text/plain": [
       "CountryName\n",
       "Afghanistan             -2\n",
       "Angola                 -13\n",
       "Aruba                   -4\n",
       "Channel Islands         -6\n",
       "Dominica                13\n",
       "Eritrea                 -2\n",
       "Faeroe Islands         -13\n",
       "Greenland               -2\n",
       "Isle of Man              7\n",
       "Liechtenstein           -4\n",
       "Maldives                -1\n",
       "Marshall Islands        13\n",
       "Palau                   12\n",
       "San Marino              -3\n",
       "Seychelles               2\n",
       "St. Kitts and Nevis     13\n",
       "Syrian Arab Republic    -6\n",
       "Name: CountryCode, dtype: int64"
      ]
     },
     "execution_count": 12,
     "metadata": {},
     "output_type": "execute_result"
    }
   ],
   "source": [
    "#Check to see if each country is represented the same number of times\n",
    "newdf = gdp_stage_trunc.groupby(['CountryName'])['CountryCode'].count() - life_stage_trunc.groupby(['CountryName'])['CountryCode'].count()\n",
    "newdf.iloc[newdf.nonzero()]"
   ]
  },
  {
   "cell_type": "code",
   "execution_count": 13,
   "metadata": {
    "collapsed": false
   },
   "outputs": [],
   "source": [
    "#Remove countries that are not represented the same number of times\n",
    "countriesrm = ['Afghanistan','Angola','Aruba','Channel Islands','Dominica','Eritrea','Faeroe Islands','Greenland','Isle of Man',\n",
    "             'Liechtenstein', 'Maldives','Marshall Islands','Palau','San Marino','Seychelles','St. Kitts and Nevis','Syrian Arab Republic']\n",
    "life_stage_trunc = life_stage_trunc[~life_stage_trunc.CountryName.isin(countriesrm)]\n",
    "gdp_stage_trunc = gdp_stage_trunc[~gdp_stage_trunc.CountryName.isin(countriesrm)]"
   ]
  },
  {
   "cell_type": "code",
   "execution_count": 87,
   "metadata": {
    "collapsed": false
   },
   "outputs": [
    {
     "data": {
      "text/html": [
       "<iframe id=\"igraph\" scrolling=\"no\" style=\"border:none;\" seamless=\"seamless\" src=\"https://plot.ly/~josh453/48.embed\" height=\"525px\" width=\"100%\"></iframe>"
      ],
      "text/plain": [
       "<plotly.tools.PlotlyDisplay object>"
      ]
     },
     "execution_count": 87,
     "metadata": {},
     "output_type": "execute_result"
    }
   ],
   "source": [
    "#Create a scatterplot of GDP vs Life Exp.\n",
    "trace = go.Scatter(\n",
    "    x = life_stage_trunc['Value'],\n",
    "    y = gdp_stage_trunc['Value'],\n",
    "    mode = 'markers'\n",
    ")\n",
    "\n",
    "layout = go.Layout(\n",
    "    title= 'Life Expectancy vs. GDP Per Capita <br>' + str(gdp_stage_trunc['Year'].min()) + ' to ' + \n",
    "               str(gdp_stage_trunc['Year'].max()),\n",
    "    xaxis= dict(\n",
    "        title= str(life_stage['IndicatorName'].iloc[0]),\n",
    "        ticklen= 5,\n",
    "        zeroline= False,\n",
    "        gridwidth= 2,\n",
    "    ),\n",
    "    yaxis=dict(\n",
    "        title= str(gdp_stage_trunc['IndicatorName'].iloc[0]),\n",
    "        ticklen= 5,\n",
    "        gridwidth= 2,\n",
    "    ),\n",
    "    showlegend= False\n",
    ")\n",
    "\n",
    "fig = go.Figure(data=[trace], layout=layout)\n",
    "py.iplot(fig)"
   ]
  },
  {
   "cell_type": "code",
   "execution_count": 154,
   "metadata": {
    "collapsed": false
   },
   "outputs": [
    {
     "data": {
      "text/html": [
       "<div>\n",
       "<table border=\"1\" class=\"dataframe\">\n",
       "  <thead>\n",
       "    <tr style=\"text-align: right;\">\n",
       "      <th></th>\n",
       "      <th>CountryName</th>\n",
       "      <th>GDPPC</th>\n",
       "      <th>Life Expectancy</th>\n",
       "    </tr>\n",
       "  </thead>\n",
       "  <tbody>\n",
       "    <tr>\n",
       "      <th>0</th>\n",
       "      <td>Albania</td>\n",
       "      <td>2977.19</td>\n",
       "      <td>76.20</td>\n",
       "    </tr>\n",
       "    <tr>\n",
       "      <th>1</th>\n",
       "      <td>Algeria</td>\n",
       "      <td>3041.94</td>\n",
       "      <td>72.59</td>\n",
       "    </tr>\n",
       "    <tr>\n",
       "      <th>2</th>\n",
       "      <td>Antigua and Barbuda</td>\n",
       "      <td>11980.66</td>\n",
       "      <td>74.66</td>\n",
       "    </tr>\n",
       "    <tr>\n",
       "      <th>3</th>\n",
       "      <td>Arab World</td>\n",
       "      <td>3913.80</td>\n",
       "      <td>69.23</td>\n",
       "    </tr>\n",
       "    <tr>\n",
       "      <th>4</th>\n",
       "      <td>Argentina</td>\n",
       "      <td>6163.91</td>\n",
       "      <td>74.91</td>\n",
       "    </tr>\n",
       "  </tbody>\n",
       "</table>\n",
       "</div>"
      ],
      "text/plain": [
       "           CountryName     GDPPC  Life Expectancy\n",
       "0              Albania   2977.19            76.20\n",
       "1              Algeria   3041.94            72.59\n",
       "2  Antigua and Barbuda  11980.66            74.66\n",
       "3           Arab World   3913.80            69.23\n",
       "4            Argentina   6163.91            74.91"
      ]
     },
     "execution_count": 154,
     "metadata": {},
     "output_type": "execute_result"
    }
   ],
   "source": [
    "#Create a dataframe with mean GDP and Life Exp.\n",
    "df_merge = pd.merge(gdp_stage_trunc, life_stage_trunc,how = 'left', left_on = ['CountryName','Year'],right_on = ['CountryName','Year'])\n",
    "df_merge.rename(columns={'Value_x':'GDPPC', 'Value_y':'Life Expectancy'}, inplace=True)\n",
    "map_data = df_merge.groupby(['CountryName'], as_index=False)['GDPPC', 'Life Expectancy'].mean()\n",
    "map_data = map_data.round(2)\n",
    "map_data.head(5)"
   ]
  },
  {
   "cell_type": "code",
   "execution_count": 158,
   "metadata": {
    "collapsed": false,
    "scrolled": false
   },
   "outputs": [
    {
     "data": {
      "text/html": [
       "<iframe id=\"igraph\" scrolling=\"no\" style=\"border:none;\" seamless=\"seamless\" src=\"https://plot.ly/~josh453/90.embed\" height=\"525px\" width=\"100%\"></iframe>"
      ],
      "text/plain": [
       "<plotly.tools.PlotlyDisplay object>"
      ]
     },
     "execution_count": 158,
     "metadata": {},
     "output_type": "execute_result"
    }
   ],
   "source": [
    "for col in map_data.columns:\n",
    "    map_data[col] = map_data[col].astype(str)\n",
    "\n",
    "map_data['text'] = 'GDPPC: $' + map_data['GDPPC'] + '<br>' + 'Life Exp: ' + map_data['Life Expectancy']\n",
    "\n",
    "data = [ dict(\n",
    "        type = 'choropleth',\n",
    "        locations = map_data['CountryName'],\n",
    "        locationmode = 'country names',\n",
    "        z = map_data['GDPPC'],\n",
    "        text = map_data['text'],\n",
    "        colorscale = [[0,\"rgb(5, 10, 172)\"],[0.35,\"rgb(40, 60, 190)\"],[0.5,\"rgb(70, 100, 245)\"],\\\n",
    "            [0.6,\"rgb(90, 120, 245)\"],[0.7,\"rgb(106, 137, 247)\"],[1,\"rgb(220, 220, 220)\"]],\n",
    "        autocolorscale = False,\n",
    "        reversescale = True,\n",
    "        marker = dict(\n",
    "            line = dict (\n",
    "                color = 'rgb(180,180,180)',\n",
    "                width = 0.5\n",
    "            ) ),\n",
    "        colorbar = dict(\n",
    "            tickprefix = '$',\n",
    "            title = 'GDP per Capita'),\n",
    "      ) ]\n",
    "\n",
    "layout = dict(\n",
    "    title = '',\n",
    "    geo = dict(\n",
    "        showframe = False,\n",
    "        showcoastlines = False,\n",
    "        projection = dict(\n",
    "            type = 'Mercator'\n",
    "        )\n",
    "    )\n",
    ")\n",
    "\n",
    "fig = dict(data=data, layout=layout)\n",
    "py.iplot(fig)"
   ]
  }
 ],
 "metadata": {
  "kernelspec": {
   "display_name": "Python 3",
   "language": "python",
   "name": "python3"
  },
  "language_info": {
   "codemirror_mode": {
    "name": "ipython",
    "version": 3
   },
   "file_extension": ".py",
   "mimetype": "text/x-python",
   "name": "python",
   "nbconvert_exporter": "python",
   "pygments_lexer": "ipython3",
   "version": "3.5.4"
  }
 },
 "nbformat": 4,
 "nbformat_minor": 0
}
