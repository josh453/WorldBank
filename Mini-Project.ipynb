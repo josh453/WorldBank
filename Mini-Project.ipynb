{
 "cells": [
  {
   "cell_type": "markdown",
   "metadata": {},
   "source": [
    "# Mini-Project\n",
    "## Using World Development Indicators\n",
    "### Goal of this workbook is to explore life expectancy and GDP of countries to see if they are related\n",
    "[Data](https://www.kaggle.com/worldbank/world-development-indicators/data)"
   ]
  },
  {
   "cell_type": "code",
   "execution_count": 95,
   "metadata": {
    "collapsed": false
   },
   "outputs": [],
   "source": [
    "import pandas as pd\n",
    "import numpy as np\n",
    "import folium\n",
    "import random\n",
    "import matplotlib.pyplot as plt\n",
    "import ipywidgets as widgets\n",
    "from IPython.display import display"
   ]
  },
  {
   "cell_type": "code",
   "execution_count": 2,
   "metadata": {
    "collapsed": false
   },
   "outputs": [
    {
     "data": {
      "text/html": [
       "<div>\n",
       "<table border=\"1\" class=\"dataframe\">\n",
       "  <thead>\n",
       "    <tr style=\"text-align: right;\">\n",
       "      <th></th>\n",
       "      <th>CountryName</th>\n",
       "      <th>CountryCode</th>\n",
       "      <th>IndicatorName</th>\n",
       "      <th>IndicatorCode</th>\n",
       "      <th>Year</th>\n",
       "      <th>Value</th>\n",
       "    </tr>\n",
       "  </thead>\n",
       "  <tbody>\n",
       "    <tr>\n",
       "      <th>0</th>\n",
       "      <td>Arab World</td>\n",
       "      <td>ARB</td>\n",
       "      <td>Adolescent fertility rate (births per 1,000 wo...</td>\n",
       "      <td>SP.ADO.TFRT</td>\n",
       "      <td>1960</td>\n",
       "      <td>1.335609e+02</td>\n",
       "    </tr>\n",
       "    <tr>\n",
       "      <th>1</th>\n",
       "      <td>Arab World</td>\n",
       "      <td>ARB</td>\n",
       "      <td>Age dependency ratio (% of working-age populat...</td>\n",
       "      <td>SP.POP.DPND</td>\n",
       "      <td>1960</td>\n",
       "      <td>8.779760e+01</td>\n",
       "    </tr>\n",
       "    <tr>\n",
       "      <th>2</th>\n",
       "      <td>Arab World</td>\n",
       "      <td>ARB</td>\n",
       "      <td>Age dependency ratio, old (% of working-age po...</td>\n",
       "      <td>SP.POP.DPND.OL</td>\n",
       "      <td>1960</td>\n",
       "      <td>6.634579e+00</td>\n",
       "    </tr>\n",
       "    <tr>\n",
       "      <th>3</th>\n",
       "      <td>Arab World</td>\n",
       "      <td>ARB</td>\n",
       "      <td>Age dependency ratio, young (% of working-age ...</td>\n",
       "      <td>SP.POP.DPND.YG</td>\n",
       "      <td>1960</td>\n",
       "      <td>8.102333e+01</td>\n",
       "    </tr>\n",
       "    <tr>\n",
       "      <th>4</th>\n",
       "      <td>Arab World</td>\n",
       "      <td>ARB</td>\n",
       "      <td>Arms exports (SIPRI trend indicator values)</td>\n",
       "      <td>MS.MIL.XPRT.KD</td>\n",
       "      <td>1960</td>\n",
       "      <td>3.000000e+06</td>\n",
       "    </tr>\n",
       "  </tbody>\n",
       "</table>\n",
       "</div>"
      ],
      "text/plain": [
       "  CountryName CountryCode                                      IndicatorName  \\\n",
       "0  Arab World         ARB  Adolescent fertility rate (births per 1,000 wo...   \n",
       "1  Arab World         ARB  Age dependency ratio (% of working-age populat...   \n",
       "2  Arab World         ARB  Age dependency ratio, old (% of working-age po...   \n",
       "3  Arab World         ARB  Age dependency ratio, young (% of working-age ...   \n",
       "4  Arab World         ARB        Arms exports (SIPRI trend indicator values)   \n",
       "\n",
       "    IndicatorCode  Year         Value  \n",
       "0     SP.ADO.TFRT  1960  1.335609e+02  \n",
       "1     SP.POP.DPND  1960  8.779760e+01  \n",
       "2  SP.POP.DPND.OL  1960  6.634579e+00  \n",
       "3  SP.POP.DPND.YG  1960  8.102333e+01  \n",
       "4  MS.MIL.XPRT.KD  1960  3.000000e+06  "
      ]
     },
     "execution_count": 2,
     "metadata": {},
     "output_type": "execute_result"
    }
   ],
   "source": [
    "#Let's take a look at the data\n",
    "data = pd.read_csv('C:/Users/Josh/Desktop/Python for Data Science/Week 5 Visualization/Indicators.csv')\n",
    "data.head()"
   ]
  },
  {
   "cell_type": "code",
   "execution_count": 3,
   "metadata": {
    "collapsed": false
   },
   "outputs": [
    {
     "name": "stdout",
     "output_type": "stream",
     "text": [
      "The data has 5656458 rows and 6 columns.\n",
      "There are 247 countries.\n",
      "There are 1344 indicators.\n",
      "There are 56 years.\n"
     ]
    }
   ],
   "source": [
    "#How many distinct countries, indicators, and years\n",
    "print(\"The data has\", data.shape[0], \"rows and\", data.shape[1], \"columns.\")\n",
    "print(\"There are\", len(set(data['CountryCode'])), \"countries.\")\n",
    "print(\"There are\", len(set(data['IndicatorCode'])), \"indicators.\")\n",
    "print(\"There are\", len(set(data['Year'])), \"years.\")"
   ]
  },
  {
   "cell_type": "code",
   "execution_count": 2,
   "metadata": {
    "collapsed": false
   },
   "outputs": [],
   "source": [
    "#Isolate indicator codes for life expectancy and GDP\n",
    "gdp_cap = data['IndicatorCode'].str.contains('NY\\.GDP\\.PCAP\\.KD$')\n",
    "total_exp = data['IndicatorCode'].str.contains('SP\\.DYN\\.LE00\\.IN$')"
   ]
  },
  {
   "cell_type": "code",
   "execution_count": 3,
   "metadata": {
    "collapsed": false
   },
   "outputs": [
    {
     "name": "stdout",
     "output_type": "stream",
     "text": [
      "CountryName      False\n",
      "CountryCode      False\n",
      "IndicatorName    False\n",
      "IndicatorCode    False\n",
      "Year             False\n",
      "Value            False\n",
      "dtype: bool\n",
      "CountryName      False\n",
      "CountryCode      False\n",
      "IndicatorName    False\n",
      "IndicatorCode    False\n",
      "Year             False\n",
      "Value            False\n",
      "dtype: bool\n"
     ]
    }
   ],
   "source": [
    "#Are the GDP and Life Expectancy data sets the same length?\n",
    "gdp_stage = data[gdp_cap]\n",
    "life_stage = data[total_exp]\n",
    "#Let's check if there are any nulls\n",
    "print(gdp_stage.isnull().any())\n",
    "print(life_stage.isnull().any())"
   ]
  },
  {
   "cell_type": "code",
   "execution_count": 4,
   "metadata": {
    "collapsed": false
   },
   "outputs": [
    {
     "name": "stdout",
     "output_type": "stream",
     "text": [
      "GDP Min Year = 1960 max: 2014\n",
      "Life Exp Min Year = 1960 max: 2013\n"
     ]
    }
   ],
   "source": [
    "#Let's check how many years each data set contains\n",
    "print(\"GDP Min Year =\", gdp_stage['Year'].min(), \"max:\", gdp_stage['Year'].max())\n",
    "print(\"Life Exp Min Year =\", life_stage['Year'].min(), \"max:\", life_stage['Year'].max())"
   ]
  },
  {
   "cell_type": "code",
   "execution_count": 5,
   "metadata": {
    "collapsed": false
   },
   "outputs": [
    {
     "name": "stdout",
     "output_type": "stream",
     "text": [
      "GDP Min Year =  2000 max:  2013\n",
      "Life Exp Min Year =  2000 max:  2013\n"
     ]
    }
   ],
   "source": [
    "#Filter data to between 2000 and 2013\n",
    "gdp_stage_trunc = gdp_stage[(gdp_stage['Year'] < 2014) & (gdp_stage['Year'] > 1999)]\n",
    "print(\"GDP Min Year = \", gdp_stage_trunc['Year'].min(), \"max: \", gdp_stage_trunc['Year'].max())\n",
    "life_stage = life_stage[(life_stage['Year'] < 2014) & (life_stage['Year'] > 1999)]\n",
    "print(\"Life Exp Min Year = \", life_stage['Year'].min(), \"max: \", life_stage['Year'].max())"
   ]
  },
  {
   "cell_type": "code",
   "execution_count": 6,
   "metadata": {
    "collapsed": false
   },
   "outputs": [
    {
     "name": "stdout",
     "output_type": "stream",
     "text": [
      "232\n",
      "240\n",
      "['Andorra' 'Curacao' 'French Polynesia' 'Guam' 'Korea, Dem. Rep.' 'Monaco'\n",
      " 'Myanmar' 'New Caledonia' 'Sint Maarten (Dutch part)' 'Somalia'\n",
      " 'South Sudan' 'St. Martin (French part)' 'Tuvalu' 'Virgin Islands (U.S.)']\n"
     ]
    }
   ],
   "source": [
    "#Let's check the number of countries in each set\n",
    "print(len(set(gdp_stage_trunc['CountryName'])))\n",
    "print(len(set(life_stage['CountryName'])))\n",
    "#Let's check all country differences between the two\n",
    "print(np.setxor1d(gdp_stage_trunc['CountryName'],life_stage['CountryName']))"
   ]
  },
  {
   "cell_type": "code",
   "execution_count": 7,
   "metadata": {
    "collapsed": false
   },
   "outputs": [
    {
     "name": "stdout",
     "output_type": "stream",
     "text": [
      "We have GDP information but not life expectancy for: ['Andorra' 'Monaco' 'Tuvalu']\n",
      "We have life expectancy information but not GDP for: ['Curacao' 'French Polynesia' 'Guam' 'Korea, Dem. Rep.' 'Myanmar'\n",
      " 'New Caledonia' 'Sint Maarten (Dutch part)' 'Somalia' 'South Sudan'\n",
      " 'St. Martin (French part)' 'Virgin Islands (U.S.)']\n"
     ]
    }
   ],
   "source": [
    "#Looks like the distinct countries in the datasets are not the same\n",
    "#Let's see which dataset has unique countries that the other does not contain\n",
    "print(\"We have GDP information but not life expectancy for:\", np.setdiff1d(gdp_stage_trunc['CountryName'],life_stage['CountryName']))\n",
    "print(\"We have life expectancy information but not GDP for:\", np.setdiff1d(life_stage['CountryName'],gdp_stage_trunc['CountryName']))"
   ]
  },
  {
   "cell_type": "code",
   "execution_count": 9,
   "metadata": {
    "collapsed": false
   },
   "outputs": [
    {
     "name": "stdout",
     "output_type": "stream",
     "text": [
      "[]\n"
     ]
    }
   ],
   "source": [
    "#Let's remove countries that do not intersect\n",
    "life_stage_trunc = life_stage[~life_stage.CountryName.isin(np.setdiff1d(life_stage['CountryName'],gdp_stage_trunc['CountryName']))]\n",
    "gdp_stage_trunc = gdp_stage_trunc[~gdp_stage_trunc.CountryName.isin(np.setdiff1d(gdp_stage_trunc['CountryName'],life_stage['CountryName']))]\n",
    "print(np.setxor1d(gdp_stage_trunc['CountryName'],life_stage_trunc['CountryName']))"
   ]
  },
  {
   "cell_type": "code",
   "execution_count": 10,
   "metadata": {
    "collapsed": false
   },
   "outputs": [
    {
     "data": {
      "text/plain": [
       "CountryName\n",
       "Afghanistan             -2\n",
       "Angola                 -13\n",
       "Aruba                   -4\n",
       "Channel Islands         -6\n",
       "Dominica                13\n",
       "Eritrea                 -2\n",
       "Faeroe Islands         -13\n",
       "Greenland               -2\n",
       "Isle of Man              7\n",
       "Liechtenstein           -4\n",
       "Maldives                -1\n",
       "Marshall Islands        13\n",
       "Palau                   12\n",
       "San Marino              -3\n",
       "Seychelles               2\n",
       "St. Kitts and Nevis     13\n",
       "Syrian Arab Republic    -6\n",
       "Name: CountryCode, dtype: int64"
      ]
     },
     "execution_count": 10,
     "metadata": {},
     "output_type": "execute_result"
    }
   ],
   "source": [
    "#Still not the same size, let's see if each country is represented the same number of times\n",
    "newdf = gdp_stage_trunc.groupby(['CountryName'])['CountryCode'].count() - life_stage_trunc.groupby(['CountryName'])['CountryCode'].count()\n",
    "newdf.iloc[newdf.nonzero()]"
   ]
  },
  {
   "cell_type": "code",
   "execution_count": 11,
   "metadata": {
    "collapsed": false
   },
   "outputs": [],
   "source": [
    "#Looks like some countries have data for years that the others do not, let's remove them from both dataframes\n",
    "countriesrm = ['Afghanistan','Angola','Aruba','Channel Islands','Dominica','Eritrea','Faeroe Islands','Greenland','Isle of Man',\n",
    "             'Liechtenstein', 'Maldives','Marshall Islands','Palau','San Marino','Seychelles','St. Kitts and Nevis','Syrian Arab Republic']\n",
    "life_stage_trunc = life_stage_trunc[~life_stage_trunc.CountryName.isin(countriesrm)]\n",
    "gdp_stage_trunc = gdp_stage_trunc[~gdp_stage_trunc.CountryName.isin(countriesrm)]"
   ]
  },
  {
   "cell_type": "code",
   "execution_count": 90,
   "metadata": {
    "collapsed": false
   },
   "outputs": [
    {
     "data": {
      "text/html": [
       "<div>\n",
       "<table border=\"1\" class=\"dataframe\">\n",
       "  <thead>\n",
       "    <tr style=\"text-align: right;\">\n",
       "      <th></th>\n",
       "      <th>GDPPC</th>\n",
       "      <th>Life Expectancy</th>\n",
       "    </tr>\n",
       "    <tr>\n",
       "      <th>CountryName</th>\n",
       "      <th></th>\n",
       "      <th></th>\n",
       "    </tr>\n",
       "  </thead>\n",
       "  <tbody>\n",
       "    <tr>\n",
       "      <th>Albania</th>\n",
       "      <td>2977.186848</td>\n",
       "      <td>76.202930</td>\n",
       "    </tr>\n",
       "    <tr>\n",
       "      <th>Algeria</th>\n",
       "      <td>3041.937716</td>\n",
       "      <td>72.585561</td>\n",
       "    </tr>\n",
       "    <tr>\n",
       "      <th>Antigua and Barbuda</th>\n",
       "      <td>11980.660788</td>\n",
       "      <td>74.658287</td>\n",
       "    </tr>\n",
       "    <tr>\n",
       "      <th>Arab World</th>\n",
       "      <td>3913.801044</td>\n",
       "      <td>69.225104</td>\n",
       "    </tr>\n",
       "    <tr>\n",
       "      <th>Argentina</th>\n",
       "      <td>6163.911856</td>\n",
       "      <td>74.907564</td>\n",
       "    </tr>\n",
       "    <tr>\n",
       "      <th>Armenia</th>\n",
       "      <td>1722.939692</td>\n",
       "      <td>73.360082</td>\n",
       "    </tr>\n",
       "    <tr>\n",
       "      <th>Australia</th>\n",
       "      <td>34515.243824</td>\n",
       "      <td>80.963066</td>\n",
       "    </tr>\n",
       "    <tr>\n",
       "      <th>Austria</th>\n",
       "      <td>39020.179358</td>\n",
       "      <td>79.767073</td>\n",
       "    </tr>\n",
       "    <tr>\n",
       "      <th>Azerbaijan</th>\n",
       "      <td>2141.443089</td>\n",
       "      <td>69.191911</td>\n",
       "    </tr>\n",
       "    <tr>\n",
       "      <th>Bahamas, The</th>\n",
       "      <td>22592.909491</td>\n",
       "      <td>73.837540</td>\n",
       "    </tr>\n",
       "    <tr>\n",
       "      <th>Bahrain</th>\n",
       "      <td>17681.128468</td>\n",
       "      <td>75.614784</td>\n",
       "    </tr>\n",
       "    <tr>\n",
       "      <th>Bangladesh</th>\n",
       "      <td>538.084981</td>\n",
       "      <td>68.509322</td>\n",
       "    </tr>\n",
       "    <tr>\n",
       "      <th>Barbados</th>\n",
       "      <td>14253.030707</td>\n",
       "      <td>74.276066</td>\n",
       "    </tr>\n",
       "    <tr>\n",
       "      <th>Belarus</th>\n",
       "      <td>3561.723992</td>\n",
       "      <td>69.835958</td>\n",
       "    </tr>\n",
       "    <tr>\n",
       "      <th>Belgium</th>\n",
       "      <td>36964.963561</td>\n",
       "      <td>79.298258</td>\n",
       "    </tr>\n",
       "    <tr>\n",
       "      <th>Belize</th>\n",
       "      <td>3856.899000</td>\n",
       "      <td>69.258385</td>\n",
       "    </tr>\n",
       "    <tr>\n",
       "      <th>Benin</th>\n",
       "      <td>602.696757</td>\n",
       "      <td>57.465674</td>\n",
       "    </tr>\n",
       "    <tr>\n",
       "      <th>Bermuda</th>\n",
       "      <td>75028.366432</td>\n",
       "      <td>79.178704</td>\n",
       "    </tr>\n",
       "    <tr>\n",
       "      <th>Bhutan</th>\n",
       "      <td>1458.988923</td>\n",
       "      <td>65.518899</td>\n",
       "    </tr>\n",
       "    <tr>\n",
       "      <th>Bolivia</th>\n",
       "      <td>1116.904571</td>\n",
       "      <td>64.380397</td>\n",
       "    </tr>\n",
       "    <tr>\n",
       "      <th>Bosnia and Herzegovina</th>\n",
       "      <td>2966.359967</td>\n",
       "      <td>75.303901</td>\n",
       "    </tr>\n",
       "    <tr>\n",
       "      <th>Botswana</th>\n",
       "      <td>5680.932066</td>\n",
       "      <td>57.088669</td>\n",
       "    </tr>\n",
       "    <tr>\n",
       "      <th>Brazil</th>\n",
       "      <td>5044.940176</td>\n",
       "      <td>72.208490</td>\n",
       "    </tr>\n",
       "    <tr>\n",
       "      <th>Brunei Darussalam</th>\n",
       "      <td>25971.892184</td>\n",
       "      <td>76.727289</td>\n",
       "    </tr>\n",
       "    <tr>\n",
       "      <th>Bulgaria</th>\n",
       "      <td>4072.538159</td>\n",
       "      <td>72.899652</td>\n",
       "    </tr>\n",
       "    <tr>\n",
       "      <th>Burkina Faso</th>\n",
       "      <td>424.794271</td>\n",
       "      <td>54.536420</td>\n",
       "    </tr>\n",
       "    <tr>\n",
       "      <th>Burundi</th>\n",
       "      <td>146.415267</td>\n",
       "      <td>53.522254</td>\n",
       "    </tr>\n",
       "    <tr>\n",
       "      <th>Cabo Verde</th>\n",
       "      <td>2258.199848</td>\n",
       "      <td>71.685401</td>\n",
       "    </tr>\n",
       "    <tr>\n",
       "      <th>Cambodia</th>\n",
       "      <td>514.514345</td>\n",
       "      <td>63.696491</td>\n",
       "    </tr>\n",
       "    <tr>\n",
       "      <th>Cameroon</th>\n",
       "      <td>922.678531</td>\n",
       "      <td>52.771751</td>\n",
       "    </tr>\n",
       "    <tr>\n",
       "      <th>...</th>\n",
       "      <td>...</td>\n",
       "      <td>...</td>\n",
       "    </tr>\n",
       "    <tr>\n",
       "      <th>Suriname</th>\n",
       "      <td>3772.924402</td>\n",
       "      <td>69.364920</td>\n",
       "    </tr>\n",
       "    <tr>\n",
       "      <th>Swaziland</th>\n",
       "      <td>2360.674502</td>\n",
       "      <td>47.373789</td>\n",
       "    </tr>\n",
       "    <tr>\n",
       "      <th>Sweden</th>\n",
       "      <td>43084.783801</td>\n",
       "      <td>80.799129</td>\n",
       "    </tr>\n",
       "    <tr>\n",
       "      <th>Switzerland</th>\n",
       "      <td>56043.337243</td>\n",
       "      <td>81.483101</td>\n",
       "    </tr>\n",
       "    <tr>\n",
       "      <th>Tajikistan</th>\n",
       "      <td>362.233169</td>\n",
       "      <td>66.763857</td>\n",
       "    </tr>\n",
       "    <tr>\n",
       "      <th>Tanzania</th>\n",
       "      <td>462.845099</td>\n",
       "      <td>57.434678</td>\n",
       "    </tr>\n",
       "    <tr>\n",
       "      <th>Thailand</th>\n",
       "      <td>3018.935793</td>\n",
       "      <td>72.566782</td>\n",
       "    </tr>\n",
       "    <tr>\n",
       "      <th>Timor-Leste</th>\n",
       "      <td>581.954045</td>\n",
       "      <td>63.822268</td>\n",
       "    </tr>\n",
       "    <tr>\n",
       "      <th>Togo</th>\n",
       "      <td>390.926077</td>\n",
       "      <td>55.651864</td>\n",
       "    </tr>\n",
       "    <tr>\n",
       "      <th>Tonga</th>\n",
       "      <td>2494.338390</td>\n",
       "      <td>71.680733</td>\n",
       "    </tr>\n",
       "    <tr>\n",
       "      <th>Trinidad and Tobago</th>\n",
       "      <td>12557.125279</td>\n",
       "      <td>69.302361</td>\n",
       "    </tr>\n",
       "    <tr>\n",
       "      <th>Tunisia</th>\n",
       "      <td>3384.981688</td>\n",
       "      <td>73.696341</td>\n",
       "    </tr>\n",
       "    <tr>\n",
       "      <th>Turkey</th>\n",
       "      <td>7240.048978</td>\n",
       "      <td>72.844336</td>\n",
       "    </tr>\n",
       "    <tr>\n",
       "      <th>Turkmenistan</th>\n",
       "      <td>2152.316041</td>\n",
       "      <td>64.631317</td>\n",
       "    </tr>\n",
       "    <tr>\n",
       "      <th>Uganda</th>\n",
       "      <td>353.353823</td>\n",
       "      <td>52.684467</td>\n",
       "    </tr>\n",
       "    <tr>\n",
       "      <th>Ukraine</th>\n",
       "      <td>1827.977861</td>\n",
       "      <td>68.978188</td>\n",
       "    </tr>\n",
       "    <tr>\n",
       "      <th>United Arab Emirates</th>\n",
       "      <td>34921.488206</td>\n",
       "      <td>75.932716</td>\n",
       "    </tr>\n",
       "    <tr>\n",
       "      <th>United Kingdom</th>\n",
       "      <td>39234.670355</td>\n",
       "      <td>79.405923</td>\n",
       "    </tr>\n",
       "    <tr>\n",
       "      <th>United States</th>\n",
       "      <td>43596.590937</td>\n",
       "      <td>77.721254</td>\n",
       "    </tr>\n",
       "    <tr>\n",
       "      <th>Upper middle income</th>\n",
       "      <td>3240.586708</td>\n",
       "      <td>72.925018</td>\n",
       "    </tr>\n",
       "    <tr>\n",
       "      <th>Uruguay</th>\n",
       "      <td>5890.444298</td>\n",
       "      <td>75.829908</td>\n",
       "    </tr>\n",
       "    <tr>\n",
       "      <th>Uzbekistan</th>\n",
       "      <td>630.308680</td>\n",
       "      <td>67.527634</td>\n",
       "    </tr>\n",
       "    <tr>\n",
       "      <th>Vanuatu</th>\n",
       "      <td>2002.081118</td>\n",
       "      <td>69.729087</td>\n",
       "    </tr>\n",
       "    <tr>\n",
       "      <th>Venezuela, RB</th>\n",
       "      <td>5715.151011</td>\n",
       "      <td>73.294923</td>\n",
       "    </tr>\n",
       "    <tr>\n",
       "      <th>Vietnam</th>\n",
       "      <td>765.267294</td>\n",
       "      <td>74.787385</td>\n",
       "    </tr>\n",
       "    <tr>\n",
       "      <th>West Bank and Gaza</th>\n",
       "      <td>1341.552789</td>\n",
       "      <td>72.031420</td>\n",
       "    </tr>\n",
       "    <tr>\n",
       "      <th>World</th>\n",
       "      <td>7323.607291</td>\n",
       "      <td>69.497352</td>\n",
       "    </tr>\n",
       "    <tr>\n",
       "      <th>Yemen, Rep.</th>\n",
       "      <td>785.344890</td>\n",
       "      <td>61.928944</td>\n",
       "    </tr>\n",
       "    <tr>\n",
       "      <th>Zambia</th>\n",
       "      <td>767.271513</td>\n",
       "      <td>51.493324</td>\n",
       "    </tr>\n",
       "    <tr>\n",
       "      <th>Zimbabwe</th>\n",
       "      <td>468.745810</td>\n",
       "      <td>45.553967</td>\n",
       "    </tr>\n",
       "  </tbody>\n",
       "</table>\n",
       "<p>212 rows × 2 columns</p>\n",
       "</div>"
      ],
      "text/plain": [
       "                               GDPPC  Life Expectancy\n",
       "CountryName                                          \n",
       "Albania                  2977.186848        76.202930\n",
       "Algeria                  3041.937716        72.585561\n",
       "Antigua and Barbuda     11980.660788        74.658287\n",
       "Arab World               3913.801044        69.225104\n",
       "Argentina                6163.911856        74.907564\n",
       "Armenia                  1722.939692        73.360082\n",
       "Australia               34515.243824        80.963066\n",
       "Austria                 39020.179358        79.767073\n",
       "Azerbaijan               2141.443089        69.191911\n",
       "Bahamas, The            22592.909491        73.837540\n",
       "Bahrain                 17681.128468        75.614784\n",
       "Bangladesh                538.084981        68.509322\n",
       "Barbados                14253.030707        74.276066\n",
       "Belarus                  3561.723992        69.835958\n",
       "Belgium                 36964.963561        79.298258\n",
       "Belize                   3856.899000        69.258385\n",
       "Benin                     602.696757        57.465674\n",
       "Bermuda                 75028.366432        79.178704\n",
       "Bhutan                   1458.988923        65.518899\n",
       "Bolivia                  1116.904571        64.380397\n",
       "Bosnia and Herzegovina   2966.359967        75.303901\n",
       "Botswana                 5680.932066        57.088669\n",
       "Brazil                   5044.940176        72.208490\n",
       "Brunei Darussalam       25971.892184        76.727289\n",
       "Bulgaria                 4072.538159        72.899652\n",
       "Burkina Faso              424.794271        54.536420\n",
       "Burundi                   146.415267        53.522254\n",
       "Cabo Verde               2258.199848        71.685401\n",
       "Cambodia                  514.514345        63.696491\n",
       "Cameroon                  922.678531        52.771751\n",
       "...                              ...              ...\n",
       "Suriname                 3772.924402        69.364920\n",
       "Swaziland                2360.674502        47.373789\n",
       "Sweden                  43084.783801        80.799129\n",
       "Switzerland             56043.337243        81.483101\n",
       "Tajikistan                362.233169        66.763857\n",
       "Tanzania                  462.845099        57.434678\n",
       "Thailand                 3018.935793        72.566782\n",
       "Timor-Leste               581.954045        63.822268\n",
       "Togo                      390.926077        55.651864\n",
       "Tonga                    2494.338390        71.680733\n",
       "Trinidad and Tobago     12557.125279        69.302361\n",
       "Tunisia                  3384.981688        73.696341\n",
       "Turkey                   7240.048978        72.844336\n",
       "Turkmenistan             2152.316041        64.631317\n",
       "Uganda                    353.353823        52.684467\n",
       "Ukraine                  1827.977861        68.978188\n",
       "United Arab Emirates    34921.488206        75.932716\n",
       "United Kingdom          39234.670355        79.405923\n",
       "United States           43596.590937        77.721254\n",
       "Upper middle income      3240.586708        72.925018\n",
       "Uruguay                  5890.444298        75.829908\n",
       "Uzbekistan                630.308680        67.527634\n",
       "Vanuatu                  2002.081118        69.729087\n",
       "Venezuela, RB            5715.151011        73.294923\n",
       "Vietnam                   765.267294        74.787385\n",
       "West Bank and Gaza       1341.552789        72.031420\n",
       "World                    7323.607291        69.497352\n",
       "Yemen, Rep.               785.344890        61.928944\n",
       "Zambia                    767.271513        51.493324\n",
       "Zimbabwe                  468.745810        45.553967\n",
       "\n",
       "[212 rows x 2 columns]"
      ]
     },
     "execution_count": 90,
     "metadata": {},
     "output_type": "execute_result"
    }
   ],
   "source": [
    "df_merge = pd.merge(gdp_stage_trunc, life_stage_trunc,how = 'left', left_on = ['CountryName','Year'],right_on = ['CountryName','Year'])\n",
    "df_merge.rename(columns={'Value_x':'GDPPC', 'Value_y':'Life Expectancy'}, inplace=True)\n",
    "df_merge.groupby(['CountryName'])['GDPPC', 'Life Expectancy'].mean()"
   ]
  },
  {
   "cell_type": "code",
   "execution_count": 133,
   "metadata": {
    "collapsed": false,
    "scrolled": true
   },
   "outputs": [
    {
     "data": {
      "image/png": "[encoded data removed]",
      "text/plain": [
       "<matplotlib.figure.Figure at 0x1660ec18>"
      ]
     },
     "metadata": {},
     "output_type": "display_data"
    }
   ],
   "source": [
    "%matplotlib inline\n",
    "fig, axis = plt.subplots(figsize = (20,10))\n",
    "\n",
    "axis.yaxis.grid(True)\n",
    "axis.set_title('Life Expectancy vs. GDP Per Capita',fontsize=14)\n",
    "axis.set_ylabel(gdp_stage_trunc['IndicatorName'].iloc[0],fontsize=12)\n",
    "axis.set_xlabel(life_stage['IndicatorName'].iloc[0],fontsize=12)\n",
    "\n",
    "Y = gdp_stage_trunc['Value']\n",
    "X = life_stage_trunc['Value']\n",
    "\n",
    "plt.plot(np.unique(X), np.poly1d(np.polyfit(X, Y, 4))(np.unique(X)), '-r', linewidth = 4)\n",
    "\n",
    "axis.scatter(X, Y, color = 'b')\n",
    "plt.show()"
   ]
  },
  {
   "cell_type": "code",
   "execution_count": 146,
   "metadata": {
    "collapsed": false
   },
   "outputs": [
    {
     "data": {
      "image/png": "[encoded data removed]",
      "text/plain": [
       "<matplotlib.figure.Figure at 0xf0ef8d0>"
      ]
     },
     "metadata": {},
     "output_type": "display_data"
    }
   ],
   "source": [
    "#We can also select by year \n",
    "%matplotlib inline\n",
    "choose_year = 2010\n",
    "fig, axis = plt.subplots(figsize = (20,10))\n",
    "axis.yaxis.grid(True)\n",
    "axis.set_title('Life Expectancy vs. GDP Per Capita' + ' ' + str(choose_year),fontsize=14)\n",
    "axis.set_ylabel(gdp_stage_trunc['IndicatorName'].iloc[0],fontsize=12)\n",
    "axis.set_xlabel(life_stage['IndicatorName'].iloc[0],fontsize=12)\n",
    "\n",
    "Y = gdp_stage_trunc.loc[gdp_stage_trunc['Year'] == choose_year, 'Value']\n",
    "X = life_stage_trunc.loc[life_stage_trunc['Year'] == choose_year, 'Value']\n",
    "\n",
    "plt.plot(np.unique(X), np.poly1d(np.polyfit(X, Y, 4))(np.unique(X)), '-r', linewidth = 4)\n",
    "\n",
    "axis.scatter(X, Y, color = 'b')\n",
    "plt.show()"
   ]
  },
  {
   "cell_type": "code",
   "execution_count": 16,
   "metadata": {
    "collapsed": false
   },
   "outputs": [],
   "source": [
    "countries = 'C:/Users/Josh/Desktop/Python for Data Science/Week 5 Visualization/world-countries.txt'\n",
    "plot_data = life_stage[['CountryCode','Value']]"
   ]
  },
  {
   "cell_type": "code",
   "execution_count": 17,
   "metadata": {
    "collapsed": false
   },
   "outputs": [],
   "source": [
    "map = folium.Map(location=[10, 0], zoom_start=1.5)"
   ]
  },
  {
   "cell_type": "code",
   "execution_count": 18,
   "metadata": {
    "collapsed": false
   },
   "outputs": [],
   "source": [
    "map.choropleth(geo_data=countries, data=plot_data,\n",
    "             columns=['CountryCode', 'Value'],\n",
    "             key_on='feature.id',\n",
    "             fill_color='YlGnBu', \n",
    "             fill_opacity=0.7, \n",
    "             line_opacity=0.2,\n",
    "             legend_name = life_stage.iloc[0]['IndicatorName'])"
   ]
  },
  {
   "cell_type": "code",
   "execution_count": 19,
   "metadata": {
    "collapsed": true
   },
   "outputs": [],
   "source": [
    "map.save('plot_data.html')"
   ]
  },
  {
   "cell_type": "code",
   "execution_count": 20,
   "metadata": {
    "collapsed": false
   },
   "outputs": [
    {
     "data": {
      "text/html": [
       "<iframe src=plot_data.html width=900 height=450></iframe>"
      ],
      "text/plain": [
       "<IPython.core.display.HTML object>"
      ]
     },
     "execution_count": 20,
     "metadata": {},
     "output_type": "execute_result"
    }
   ],
   "source": [
    "from IPython.display import HTML\n",
    "HTML('<iframe src=plot_data.html width=900 height=450></iframe>')"
   ]
  },
  {
   "cell_type": "code",
   "execution_count": 142,
   "metadata": {
    "collapsed": false
   },
   "outputs": [
    {
     "data": {
      "text/plain": [
       "4839188     4285.818965\n",
       "4839728     7309.906447\n",
       "4840312     9763.560846\n",
       "4840962     5669.091316\n",
       "4841634     2511.589009\n",
       "4842430    32647.954456\n",
       "4843061    19821.478639\n",
       "4843803     4209.195778\n",
       "4844652    29681.322027\n",
       "4845295      891.256808\n",
       "4845843      506.264927\n",
       "4846454    29820.955755\n",
       "4847125    10956.899347\n",
       "4847775    35533.799840\n",
       "4848437     5715.518819\n",
       "4849136     5307.569267\n",
       "4849953      528.396144\n",
       "4850620     2145.340021\n",
       "4851475      367.816474\n",
       "4852338     1076.157603\n",
       "4853160     5013.688363\n",
       "4853829     2612.723003\n",
       "4854713     2343.965646\n",
       "4855519    43225.117024\n",
       "4856108    31292.299401\n",
       "4856752     3412.642520\n",
       "4857267     2533.971819\n",
       "4857750     4285.076405\n",
       "4858410      934.803067\n",
       "4859268      988.049577\n",
       "               ...     \n",
       "5000154     5388.278418\n",
       "5001001      812.037290\n",
       "5001807     4262.950097\n",
       "5002473     2440.636937\n",
       "5003353    44877.910497\n",
       "5004170    58138.631206\n",
       "5005756      419.620869\n",
       "5006738      512.990167\n",
       "5007775     3410.427649\n",
       "5008716      682.596437\n",
       "5009504      387.640032\n",
       "5010401     2535.391761\n",
       "5011135    14093.963197\n",
       "5011898     3820.678275\n",
       "5012928     7814.801237\n",
       "5013885     2632.427447\n",
       "5014881      400.453446\n",
       "5015892     1974.621182\n",
       "5016820    24423.523975\n",
       "5017411    39300.967022\n",
       "5018182    43961.168477\n",
       "5018966     6873.312262\n",
       "5019803      755.322265\n",
       "5020579     2131.093536\n",
       "5021422     6019.880351\n",
       "5022268      900.493693\n",
       "5023172     1344.978808\n",
       "5023926      847.283175\n",
       "5024783      908.747917\n",
       "5025702      372.287290\n",
       "Name: Value, dtype: float64"
      ]
     },
     "execution_count": 142,
     "metadata": {},
     "output_type": "execute_result"
    }
   ],
   "source": [
    "gdp_stage_trunc.loc[gdp_stage_trunc['Year'] == 2010, 'Value']"
   ]
  },
  {
   "cell_type": "code",
   "execution_count": null,
   "metadata": {
    "collapsed": true
   },
   "outputs": [],
   "source": []
  }
 ],
 "metadata": {
  "kernelspec": {
   "display_name": "Python 3",
   "language": "python",
   "name": "python3"
  },
  "language_info": {
   "codemirror_mode": {
    "name": "ipython",
    "version": 3
   },
   "file_extension": ".py",
   "mimetype": "text/x-python",
   "name": "python",
   "nbconvert_exporter": "python",
   "pygments_lexer": "ipython3",
   "version": "3.5.4"
  }
 },
 "nbformat": 4,
 "nbformat_minor": 0
}
